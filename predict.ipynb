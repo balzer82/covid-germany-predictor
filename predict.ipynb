{
 "cells": [
  {
   "cell_type": "code",
   "execution_count": 1,
   "metadata": {},
   "outputs": [],
   "source": [
    "import pandas as pd\n",
    "pd.set_option('display.max_rows', 500)\n",
    "import time\n",
    "import datetime\n",
    "\n",
    "%matplotlib inline\n",
    "import matplotlib.pyplot as plt\n",
    "plt.style.use('bmh')"
   ]
  },
  {
   "cell_type": "markdown",
   "metadata": {},
   "source": [
    "# WirVsVirus Hackathon\n",
    "\n",
    "Die entscheidende Frage bei der Beurteilung aller Maßnahmen ist, ob das exponentielle Wachstum verlangsamt worden ist, d.h. die exponentielle Wachstumskurve abflacht.\n",
    "Dazu macht man am besten anhand bestehender Daten ein Modell-Fit und schaut, ob aktuelle Fallzahlen das Modell überschreiten oder man mit den Fallzahlen darunter bleibt."
   ]
  },
  {
   "cell_type": "markdown",
   "metadata": {},
   "source": [
    "## Download Data from CSSE COVID-19 Dataset\n",
    "\n",
    "We are using the Covid-19 Dataset: https://github.com/CSSEGISandData/COVID-19"
   ]
  },
  {
   "cell_type": "code",
   "execution_count": 2,
   "metadata": {
    "scrolled": true
   },
   "outputs": [
    {
     "name": "stdout",
     "output_type": "stream",
     "text": [
      "Downloading Data from https://raw.githubusercontent.com/CSSEGISandData/COVID-19/master/csse_covid_19_data/csse_covid_19_time_series/time_series_19-covid-Confirmed.csv\n"
     ]
    }
   ],
   "source": [
    "url = 'https://raw.githubusercontent.com'\n",
    "url += '/CSSEGISandData/COVID-19'\n",
    "url += '/master/csse_covid_19_data/csse_covid_19_time_series'\n",
    "url += '/time_series_19-covid-Confirmed.csv'\n",
    "print('Downloading Data from %s' % url)"
   ]
  },
  {
   "cell_type": "code",
   "execution_count": 3,
   "metadata": {},
   "outputs": [],
   "source": [
    "confirmed_raw = pd.read_csv(url)"
   ]
  },
  {
   "cell_type": "code",
   "execution_count": 4,
   "metadata": {},
   "outputs": [
    {
     "data": {
      "text/html": [
       "<div>\n",
       "<style scoped>\n",
       "    .dataframe tbody tr th:only-of-type {\n",
       "        vertical-align: middle;\n",
       "    }\n",
       "\n",
       "    .dataframe tbody tr th {\n",
       "        vertical-align: top;\n",
       "    }\n",
       "\n",
       "    .dataframe thead th {\n",
       "        text-align: right;\n",
       "    }\n",
       "</style>\n",
       "<table border=\"1\" class=\"dataframe\">\n",
       "  <thead>\n",
       "    <tr style=\"text-align: right;\">\n",
       "      <th></th>\n",
       "      <th>Province/State</th>\n",
       "      <th>Country/Region</th>\n",
       "      <th>Lat</th>\n",
       "      <th>Long</th>\n",
       "      <th>1/22/20</th>\n",
       "      <th>1/23/20</th>\n",
       "      <th>1/24/20</th>\n",
       "      <th>1/25/20</th>\n",
       "      <th>1/26/20</th>\n",
       "      <th>1/27/20</th>\n",
       "      <th>...</th>\n",
       "      <th>3/12/20</th>\n",
       "      <th>3/13/20</th>\n",
       "      <th>3/14/20</th>\n",
       "      <th>3/15/20</th>\n",
       "      <th>3/16/20</th>\n",
       "      <th>3/17/20</th>\n",
       "      <th>3/18/20</th>\n",
       "      <th>3/19/20</th>\n",
       "      <th>3/20/20</th>\n",
       "      <th>3/21/20</th>\n",
       "    </tr>\n",
       "  </thead>\n",
       "  <tbody>\n",
       "    <tr>\n",
       "      <th>0</th>\n",
       "      <td>NaN</td>\n",
       "      <td>Thailand</td>\n",
       "      <td>15.0000</td>\n",
       "      <td>101.0000</td>\n",
       "      <td>2</td>\n",
       "      <td>3</td>\n",
       "      <td>5</td>\n",
       "      <td>7</td>\n",
       "      <td>8</td>\n",
       "      <td>8</td>\n",
       "      <td>...</td>\n",
       "      <td>70</td>\n",
       "      <td>75</td>\n",
       "      <td>82</td>\n",
       "      <td>114</td>\n",
       "      <td>147</td>\n",
       "      <td>177</td>\n",
       "      <td>212</td>\n",
       "      <td>272</td>\n",
       "      <td>322</td>\n",
       "      <td>411</td>\n",
       "    </tr>\n",
       "    <tr>\n",
       "      <th>1</th>\n",
       "      <td>NaN</td>\n",
       "      <td>Japan</td>\n",
       "      <td>36.0000</td>\n",
       "      <td>138.0000</td>\n",
       "      <td>2</td>\n",
       "      <td>1</td>\n",
       "      <td>2</td>\n",
       "      <td>2</td>\n",
       "      <td>4</td>\n",
       "      <td>4</td>\n",
       "      <td>...</td>\n",
       "      <td>639</td>\n",
       "      <td>701</td>\n",
       "      <td>773</td>\n",
       "      <td>839</td>\n",
       "      <td>825</td>\n",
       "      <td>878</td>\n",
       "      <td>889</td>\n",
       "      <td>924</td>\n",
       "      <td>963</td>\n",
       "      <td>1007</td>\n",
       "    </tr>\n",
       "    <tr>\n",
       "      <th>2</th>\n",
       "      <td>NaN</td>\n",
       "      <td>Singapore</td>\n",
       "      <td>1.2833</td>\n",
       "      <td>103.8333</td>\n",
       "      <td>0</td>\n",
       "      <td>1</td>\n",
       "      <td>3</td>\n",
       "      <td>3</td>\n",
       "      <td>4</td>\n",
       "      <td>5</td>\n",
       "      <td>...</td>\n",
       "      <td>178</td>\n",
       "      <td>200</td>\n",
       "      <td>212</td>\n",
       "      <td>226</td>\n",
       "      <td>243</td>\n",
       "      <td>266</td>\n",
       "      <td>313</td>\n",
       "      <td>345</td>\n",
       "      <td>385</td>\n",
       "      <td>432</td>\n",
       "    </tr>\n",
       "    <tr>\n",
       "      <th>3</th>\n",
       "      <td>NaN</td>\n",
       "      <td>Nepal</td>\n",
       "      <td>28.1667</td>\n",
       "      <td>84.2500</td>\n",
       "      <td>0</td>\n",
       "      <td>0</td>\n",
       "      <td>0</td>\n",
       "      <td>1</td>\n",
       "      <td>1</td>\n",
       "      <td>1</td>\n",
       "      <td>...</td>\n",
       "      <td>1</td>\n",
       "      <td>1</td>\n",
       "      <td>1</td>\n",
       "      <td>1</td>\n",
       "      <td>1</td>\n",
       "      <td>1</td>\n",
       "      <td>1</td>\n",
       "      <td>1</td>\n",
       "      <td>1</td>\n",
       "      <td>1</td>\n",
       "    </tr>\n",
       "    <tr>\n",
       "      <th>4</th>\n",
       "      <td>NaN</td>\n",
       "      <td>Malaysia</td>\n",
       "      <td>2.5000</td>\n",
       "      <td>112.5000</td>\n",
       "      <td>0</td>\n",
       "      <td>0</td>\n",
       "      <td>0</td>\n",
       "      <td>3</td>\n",
       "      <td>4</td>\n",
       "      <td>4</td>\n",
       "      <td>...</td>\n",
       "      <td>149</td>\n",
       "      <td>197</td>\n",
       "      <td>238</td>\n",
       "      <td>428</td>\n",
       "      <td>566</td>\n",
       "      <td>673</td>\n",
       "      <td>790</td>\n",
       "      <td>900</td>\n",
       "      <td>1030</td>\n",
       "      <td>1183</td>\n",
       "    </tr>\n",
       "  </tbody>\n",
       "</table>\n",
       "<p>5 rows × 64 columns</p>\n",
       "</div>"
      ],
      "text/plain": [
       "  Province/State Country/Region      Lat      Long  1/22/20  1/23/20  1/24/20  \\\n",
       "0            NaN       Thailand  15.0000  101.0000        2        3        5   \n",
       "1            NaN          Japan  36.0000  138.0000        2        1        2   \n",
       "2            NaN      Singapore   1.2833  103.8333        0        1        3   \n",
       "3            NaN          Nepal  28.1667   84.2500        0        0        0   \n",
       "4            NaN       Malaysia   2.5000  112.5000        0        0        0   \n",
       "\n",
       "   1/25/20  1/26/20  1/27/20   ...     3/12/20  3/13/20  3/14/20  3/15/20  \\\n",
       "0        7        8        8   ...          70       75       82      114   \n",
       "1        2        4        4   ...         639      701      773      839   \n",
       "2        3        4        5   ...         178      200      212      226   \n",
       "3        1        1        1   ...           1        1        1        1   \n",
       "4        3        4        4   ...         149      197      238      428   \n",
       "\n",
       "   3/16/20  3/17/20  3/18/20  3/19/20  3/20/20  3/21/20  \n",
       "0      147      177      212      272      322      411  \n",
       "1      825      878      889      924      963     1007  \n",
       "2      243      266      313      345      385      432  \n",
       "3        1        1        1        1        1        1  \n",
       "4      566      673      790      900     1030     1183  \n",
       "\n",
       "[5 rows x 64 columns]"
      ]
     },
     "execution_count": 4,
     "metadata": {},
     "output_type": "execute_result"
    }
   ],
   "source": [
    "confirmed_raw.head()"
   ]
  },
  {
   "cell_type": "markdown",
   "metadata": {},
   "source": [
    "### Preprocessing"
   ]
  },
  {
   "cell_type": "code",
   "execution_count": 5,
   "metadata": {},
   "outputs": [],
   "source": [
    "confirmed = confirmed_raw[confirmed_raw['Country/Region']=='Germany'].T\n",
    "confirmed = confirmed[4:].astype('int')\n",
    "confirmed.columns = ['confirmed']"
   ]
  },
  {
   "cell_type": "code",
   "execution_count": 6,
   "metadata": {},
   "outputs": [],
   "source": [
    "confirmed.index = pd.to_datetime(confirmed.index)\n",
    "confirmed = confirmed.asfreq('D')"
   ]
  },
  {
   "cell_type": "markdown",
   "metadata": {},
   "source": [
    "Filter der Daten: Wir nehmen für die Modellbildung erst den Tag als Beginn, an dem erstmals mehr als 100 Erkrankte gemeldet waren."
   ]
  },
  {
   "cell_type": "code",
   "execution_count": 7,
   "metadata": {},
   "outputs": [],
   "source": [
    "confirmed = confirmed[confirmed.confirmed>=100]"
   ]
  },
  {
   "cell_type": "markdown",
   "metadata": {},
   "source": [
    "## Modellvarianten\n",
    "\n",
    "Man kann immer ein aktuelles Modell rechnen, oder schauen wie sich die Zahlen verändern, basierend auf einem Modell von einem festen Datum aus."
   ]
  },
  {
   "cell_type": "code",
   "execution_count": 8,
   "metadata": {},
   "outputs": [],
   "source": [
    "#today = confirmed.index[-1] # immer aktuell rechnen\n",
    "today = datetime.date(2020, 3, 21) # 21.03.2020 als Bezugsdatum nehme"
   ]
  },
  {
   "cell_type": "markdown",
   "metadata": {},
   "source": [
    "## Feature"
   ]
  },
  {
   "cell_type": "code",
   "execution_count": 9,
   "metadata": {},
   "outputs": [],
   "source": [
    "confirmed['days'] = (confirmed.index - confirmed.index.min()).days"
   ]
  },
  {
   "cell_type": "code",
   "execution_count": 10,
   "metadata": {},
   "outputs": [
    {
     "data": {
      "text/html": [
       "<div>\n",
       "<style scoped>\n",
       "    .dataframe tbody tr th:only-of-type {\n",
       "        vertical-align: middle;\n",
       "    }\n",
       "\n",
       "    .dataframe tbody tr th {\n",
       "        vertical-align: top;\n",
       "    }\n",
       "\n",
       "    .dataframe thead th {\n",
       "        text-align: right;\n",
       "    }\n",
       "</style>\n",
       "<table border=\"1\" class=\"dataframe\">\n",
       "  <thead>\n",
       "    <tr style=\"text-align: right;\">\n",
       "      <th></th>\n",
       "      <th>confirmed</th>\n",
       "      <th>days</th>\n",
       "    </tr>\n",
       "  </thead>\n",
       "  <tbody>\n",
       "    <tr>\n",
       "      <th>2020-03-01</th>\n",
       "      <td>130</td>\n",
       "      <td>0</td>\n",
       "    </tr>\n",
       "    <tr>\n",
       "      <th>2020-03-02</th>\n",
       "      <td>159</td>\n",
       "      <td>1</td>\n",
       "    </tr>\n",
       "    <tr>\n",
       "      <th>2020-03-03</th>\n",
       "      <td>196</td>\n",
       "      <td>2</td>\n",
       "    </tr>\n",
       "    <tr>\n",
       "      <th>2020-03-04</th>\n",
       "      <td>262</td>\n",
       "      <td>3</td>\n",
       "    </tr>\n",
       "    <tr>\n",
       "      <th>2020-03-05</th>\n",
       "      <td>482</td>\n",
       "      <td>4</td>\n",
       "    </tr>\n",
       "  </tbody>\n",
       "</table>\n",
       "</div>"
      ],
      "text/plain": [
       "            confirmed  days\n",
       "2020-03-01        130     0\n",
       "2020-03-02        159     1\n",
       "2020-03-03        196     2\n",
       "2020-03-04        262     3\n",
       "2020-03-05        482     4"
      ]
     },
     "execution_count": 10,
     "metadata": {},
     "output_type": "execute_result"
    }
   ],
   "source": [
    "confirmed.head()"
   ]
  },
  {
   "cell_type": "markdown",
   "metadata": {},
   "source": [
    "## Ausgangssperren\n",
    "\n",
    "Am Wochenende 20.03./21.03.2020 haben einige Gemeinden und Städte Ausgangssperren verhängt (z.B. [Dresden](https://www.dresden.de/media/pdf/presseamt/Allgemeinverfuegung.pdf), Mitterteich, ganz Bayern usw). Daher werden wir uns das Datum mal merken."
   ]
  },
  {
   "cell_type": "code",
   "execution_count": 11,
   "metadata": {},
   "outputs": [],
   "source": [
    "ausgangssperren_timestamp = datetime.date(2020, 3, 21)"
   ]
  },
  {
   "cell_type": "code",
   "execution_count": 12,
   "metadata": {},
   "outputs": [],
   "source": [
    "ausgangssperren_timestamp_epoch = time.mktime(ausgangssperren_timestamp.timetuple())*1000"
   ]
  },
  {
   "cell_type": "markdown",
   "metadata": {},
   "source": [
    "## Prediction Model\n",
    "\n",
    "Ein exponentielles Wachstum (freie unkontrollierte Ausbreitung) verläuft nach:\n",
    "\n",
    "$y = A e^{Bx}$\n",
    "\n",
    "Wenn wir das logarithmieren mit dem Log zur Basis $e$, haben wir ein lineares Modell.\n",
    "\n",
    "$\\log_e(y) = B x + \\log_e (A)$"
   ]
  },
  {
   "cell_type": "code",
   "execution_count": 13,
   "metadata": {},
   "outputs": [],
   "source": [
    "from sklearn.linear_model import LinearRegression\n",
    "from sklearn.metrics import r2_score\n",
    "import numpy as np"
   ]
  },
  {
   "cell_type": "code",
   "execution_count": 14,
   "metadata": {},
   "outputs": [],
   "source": [
    "X = confirmed[:today]['days'].values.reshape(-1, 1)\n",
    "y = confirmed[:today]['confirmed'].values\n",
    "logy = np.log(y)"
   ]
  },
  {
   "cell_type": "markdown",
   "metadata": {},
   "source": [
    "### Train"
   ]
  },
  {
   "cell_type": "code",
   "execution_count": 15,
   "metadata": {},
   "outputs": [
    {
     "data": {
      "text/plain": [
       "LinearRegression(copy_X=True, fit_intercept=True, n_jobs=None,\n",
       "         normalize=False)"
      ]
     },
     "execution_count": 15,
     "metadata": {},
     "output_type": "execute_result"
    }
   ],
   "source": [
    "clf = LinearRegression()\n",
    "clf.fit(X, logy)"
   ]
  },
  {
   "cell_type": "code",
   "execution_count": 16,
   "metadata": {},
   "outputs": [],
   "source": [
    "logy_pred = clf.predict(X)"
   ]
  },
  {
   "cell_type": "markdown",
   "metadata": {},
   "source": [
    "Die mit dem linearen Modell vorhergesagten Werte sind im logarithmischen, müssen mit der $e^y$ noch zurück konvertiert werden."
   ]
  },
  {
   "cell_type": "code",
   "execution_count": 17,
   "metadata": {},
   "outputs": [],
   "source": [
    "confirmed.loc[:today,'predicted_exp'] = np.exp(logy_pred).astype('int')"
   ]
  },
  {
   "cell_type": "code",
   "execution_count": 18,
   "metadata": {},
   "outputs": [
    {
     "data": {
      "text/html": [
       "<div>\n",
       "<style scoped>\n",
       "    .dataframe tbody tr th:only-of-type {\n",
       "        vertical-align: middle;\n",
       "    }\n",
       "\n",
       "    .dataframe tbody tr th {\n",
       "        vertical-align: top;\n",
       "    }\n",
       "\n",
       "    .dataframe thead th {\n",
       "        text-align: right;\n",
       "    }\n",
       "</style>\n",
       "<table border=\"1\" class=\"dataframe\">\n",
       "  <thead>\n",
       "    <tr style=\"text-align: right;\">\n",
       "      <th></th>\n",
       "      <th>confirmed</th>\n",
       "      <th>days</th>\n",
       "      <th>predicted_exp</th>\n",
       "    </tr>\n",
       "  </thead>\n",
       "  <tbody>\n",
       "    <tr>\n",
       "      <th>2020-03-17</th>\n",
       "      <td>9257</td>\n",
       "      <td>16</td>\n",
       "      <td>9295</td>\n",
       "    </tr>\n",
       "    <tr>\n",
       "      <th>2020-03-18</th>\n",
       "      <td>12327</td>\n",
       "      <td>17</td>\n",
       "      <td>12073</td>\n",
       "    </tr>\n",
       "    <tr>\n",
       "      <th>2020-03-19</th>\n",
       "      <td>15320</td>\n",
       "      <td>18</td>\n",
       "      <td>15681</td>\n",
       "    </tr>\n",
       "    <tr>\n",
       "      <th>2020-03-20</th>\n",
       "      <td>19848</td>\n",
       "      <td>19</td>\n",
       "      <td>20368</td>\n",
       "    </tr>\n",
       "    <tr>\n",
       "      <th>2020-03-21</th>\n",
       "      <td>22213</td>\n",
       "      <td>20</td>\n",
       "      <td>26455</td>\n",
       "    </tr>\n",
       "  </tbody>\n",
       "</table>\n",
       "</div>"
      ],
      "text/plain": [
       "            confirmed  days  predicted_exp\n",
       "2020-03-17       9257    16           9295\n",
       "2020-03-18      12327    17          12073\n",
       "2020-03-19      15320    18          15681\n",
       "2020-03-20      19848    19          20368\n",
       "2020-03-21      22213    20          26455"
      ]
     },
     "execution_count": 18,
     "metadata": {},
     "output_type": "execute_result"
    }
   ],
   "source": [
    "confirmed.tail()"
   ]
  },
  {
   "cell_type": "markdown",
   "metadata": {},
   "source": [
    "### Modelparameter"
   ]
  },
  {
   "cell_type": "code",
   "execution_count": 19,
   "metadata": {},
   "outputs": [
    {
     "name": "stdout",
     "output_type": "stream",
     "text": [
      "Modellparameter sind A=141.7, B=0.261\n"
     ]
    }
   ],
   "source": [
    "B = clf.coef_[0]\n",
    "A = np.exp(clf.intercept_)\n",
    "print('Modellparameter sind A=%.1f, B=%.3f' % (A, B))"
   ]
  },
  {
   "cell_type": "markdown",
   "metadata": {},
   "source": [
    "### Logistisches Wachstum\n",
    "\n",
    "Anmerkung: Typischerweise ist nur der Beginn einer Epedemie mit exponentiellem Wachstum, denn irgendwann sind die Menschen immun oder verstorben und das Virus kann sich nicht weiter ausbreiten. Daher geht die Infektion in eine Sättigung. Die exponentielle Wachstumsfunktion geht in eine Logistische Funktion über:\n",
    "\n",
    "$P(t) = \\cfrac{K}{1+\\left(\\frac{K-P_0}{P_0}\\right)e^{-rt}}$\n",
    "\n",
    "mit:\n",
    "* $P$ = Population, hier Infizierte\n",
    "* $t$ = Tage\n",
    "* $r$ = Wachstumsrate\n",
    "* $K$ = Kapazität (Sättigung, da gehen wir von 70% der 81mio deutschen aus)\n",
    "* $P_0$ = initial Infizierte am Tag 0\n",
    "\n",
    "Hier können wir die gefundenen Modellparameter aus dem exponentiellen Wachstum nutzen."
   ]
  },
  {
   "cell_type": "code",
   "execution_count": 20,
   "metadata": {},
   "outputs": [],
   "source": [
    "infektionsrate = 0.7\n",
    "gesamtanzahl = 81000000"
   ]
  },
  {
   "cell_type": "code",
   "execution_count": 21,
   "metadata": {},
   "outputs": [],
   "source": [
    "def logistic_function(s, r=B, K=infektionsrate*gesamtanzahl, P0=A):\n",
    "    t=s.days\n",
    "    P = K / (1 + ((K-P0)/P0) * np.exp(-r*t))\n",
    "    return int(P)"
   ]
  },
  {
   "cell_type": "markdown",
   "metadata": {},
   "source": [
    "### Model Evaluation\n",
    "\n",
    "R² score: the coefficient of determination"
   ]
  },
  {
   "cell_type": "code",
   "execution_count": 22,
   "metadata": {},
   "outputs": [
    {
     "data": {
      "text/plain": [
       "0.9790439892744135"
      ]
     },
     "execution_count": 22,
     "metadata": {},
     "output_type": "execute_result"
    }
   ],
   "source": [
    "r2_score(confirmed['confirmed'].values, confirmed['predicted_exp'].values)"
   ]
  },
  {
   "cell_type": "markdown",
   "metadata": {},
   "source": [
    "## Save the model for later use"
   ]
  },
  {
   "cell_type": "code",
   "execution_count": 23,
   "metadata": {},
   "outputs": [
    {
     "name": "stdout",
     "output_type": "stream",
     "text": [
      "Saved the Model to 2020-03-21-Germany-Covid19-Prediction-Model.pkl\n"
     ]
    }
   ],
   "source": [
    "import pickle\n",
    "\n",
    "pklfilename = '%s-Germany-Covid19-Prediction-Model.pkl' % today.strftime('%Y-%m-%d')\n",
    "with open(pklfilename, 'wb') as f:\n",
    "    pickle.dump(clf, f)\n",
    "    \n",
    "print('Saved the Model to %s' % pklfilename)"
   ]
  },
  {
   "cell_type": "markdown",
   "metadata": {},
   "source": [
    "## Future"
   ]
  },
  {
   "cell_type": "code",
   "execution_count": 24,
   "metadata": {},
   "outputs": [],
   "source": [
    "fd = 13 # days into the future"
   ]
  },
  {
   "cell_type": "code",
   "execution_count": 25,
   "metadata": {},
   "outputs": [],
   "source": [
    "# Create DataFrame in the Future\n",
    "dates = pd.date_range(confirmed.index[-1], periods=fd, closed='right')\n",
    "days_in_future = confirmed.days[-1] + np.arange(1, fd)\n",
    "\n",
    "future = pd.DataFrame(data=days_in_future, index=dates, columns=['days'])"
   ]
  },
  {
   "cell_type": "code",
   "execution_count": 26,
   "metadata": {},
   "outputs": [],
   "source": [
    "future = confirmed.append(future, sort=True)"
   ]
  },
  {
   "cell_type": "markdown",
   "metadata": {},
   "source": [
    "### Predict the Future"
   ]
  },
  {
   "cell_type": "code",
   "execution_count": 27,
   "metadata": {},
   "outputs": [],
   "source": [
    "X_future = future['days'].values.reshape(-1, 1)"
   ]
  },
  {
   "cell_type": "code",
   "execution_count": 28,
   "metadata": {},
   "outputs": [],
   "source": [
    "logy_pred = clf.predict(X_future)\n",
    "future['predicted_exp'] = np.exp(logy_pred).astype('int')"
   ]
  },
  {
   "cell_type": "code",
   "execution_count": 29,
   "metadata": {},
   "outputs": [],
   "source": [
    "future['predicted_log'] = future.apply(logistic_function, axis=1)"
   ]
  },
  {
   "cell_type": "code",
   "execution_count": 30,
   "metadata": {},
   "outputs": [
    {
     "name": "stdout",
     "output_type": "stream",
     "text": [
      "            confirmed  days  predicted_exp  predicted_log\n",
      "2020-03-01      130.0     0            141            141\n",
      "2020-03-02      159.0     1            184            184\n",
      "2020-03-03      196.0     2            239            239\n",
      "2020-03-04      262.0     3            310            310\n",
      "2020-03-05      482.0     4            403            403\n",
      "2020-03-06      670.0     5            523            523\n",
      "2020-03-07      799.0     6            680            680\n",
      "2020-03-08     1040.0     7            883            883\n",
      "2020-03-09     1176.0     8           1147           1147\n",
      "2020-03-10     1457.0     9           1490           1490\n",
      "2020-03-11     1908.0    10           1935           1935\n",
      "2020-03-12     2078.0    11           2514           2514\n",
      "2020-03-13     3675.0    12           3266           3265\n",
      "2020-03-14     4585.0    13           4242           4241\n",
      "2020-03-15     5795.0    14           5509           5509\n",
      "2020-03-16     7272.0    15           7156           7155\n",
      "2020-03-17     9257.0    16           9295           9293\n",
      "2020-03-18    12327.0    17          12073          12070\n",
      "2020-03-19    15320.0    18          15681          15677\n",
      "2020-03-20    19848.0    19          20368          20361\n",
      "2020-03-21    22213.0    20          26455          26443\n",
      "2020-03-22        NaN    21          34362          34341\n",
      "2020-03-23        NaN    22          44631          44596\n",
      "2020-03-24        NaN    23          57970          57911\n",
      "2020-03-25        NaN    24          75295          75195\n",
      "2020-03-26        NaN    25          97797          97629\n",
      "2020-03-27        NaN    26         127025         126741\n",
      "2020-03-28        NaN    27         164988         164510\n",
      "2020-03-29        NaN    28         214296         213490\n",
      "2020-03-30        NaN    29         278340         276981\n",
      "2020-03-31        NaN    30         361525         359235\n",
      "2020-04-01        NaN    31         469570         465714\n",
      "2020-04-02        NaN    32         609906         603416\n"
     ]
    }
   ],
   "source": [
    "print(future)"
   ]
  },
  {
   "cell_type": "markdown",
   "metadata": {},
   "source": [
    "## Future Plot"
   ]
  },
  {
   "cell_type": "code",
   "execution_count": 31,
   "metadata": {},
   "outputs": [],
   "source": [
    "title = 'Bestätigte Fälle und Vorhersage für Deutschland (Basierend auf CSSE COVID-19 Dataset)'"
   ]
  },
  {
   "cell_type": "code",
   "execution_count": 32,
   "metadata": {},
   "outputs": [
    {
     "name": "stdout",
     "output_type": "stream",
     "text": [
      "Saved the Figure\n"
     ]
    },
    {
     "data": {
      "image/png": "[encoded data removed]",
      "text/plain": [
       "<Figure size 432x288 with 1 Axes>"
      ]
     },
     "metadata": {
      "needs_background": "light"
     },
     "output_type": "display_data"
    }
   ],
   "source": [
    "ax = future['confirmed'].plot(label='Bestätigte COVID-19 Fälle', marker='o')\n",
    "ax = future['predicted_log'].plot(label='logistisches Wachstum\\n(Modell vom %s)' % today.strftime('%d.%m.%Y'),\n",
    "                                  alpha=0.6, ax=ax)\n",
    "\n",
    "ax.vlines(ausgangssperren_timestamp,\n",
    "          ymin=future.predicted_exp.min(),\n",
    "          ymax=future.predicted_exp.max(),\n",
    "          linestyle='--', alpha=0.2, label='Beginn Ausgangssperren')\n",
    "\n",
    "ax.legend()\n",
    "ax.set_ylabel('Anzahl (Logarithmisch)')\n",
    "ax.set_yscale('log')\n",
    "ax.set_title(title, fontsize=8)\n",
    "ax.annotate('unter CC-BY 2.0 Lizenz Paul Balzer', xy=(.5, 0.02), xycoords='figure fraction', ha='center', fontsize=6, color='gray')\n",
    "\n",
    "plt.tight_layout()\n",
    "plt.savefig('./%s-Germany-Covid19-Prediction.png' % today.strftime('%Y-%m-%d'), dpi=150)\n",
    "print('Saved the Figure')"
   ]
  },
  {
   "cell_type": "markdown",
   "metadata": {},
   "source": [
    "## Export as Excel"
   ]
  },
  {
   "cell_type": "code",
   "execution_count": 33,
   "metadata": {},
   "outputs": [
    {
     "name": "stdout",
     "output_type": "stream",
     "text": [
      "Saved the Excel to ./2020-03-21-Germany-Covid19-Prediction.xlsx\n"
     ]
    }
   ],
   "source": [
    "xlsfile = './%s-Germany-Covid19-Prediction.xlsx' % today.strftime('%Y-%m-%d')\n",
    "future.to_excel(xlsfile)\n",
    "print('Saved the Excel to %s' % xlsfile)"
   ]
  },
  {
   "cell_type": "markdown",
   "metadata": {},
   "source": [
    "# Interactive Website\n",
    "\n",
    "We are using Bokeh to export an interactive website"
   ]
  },
  {
   "cell_type": "code",
   "execution_count": 34,
   "metadata": {},
   "outputs": [],
   "source": [
    "from bokeh.plotting import figure\n",
    "from bokeh.models.formatters import DatetimeTickFormatter, NumeralTickFormatter\n",
    "from bokeh.models import Div, HoverTool, BoxAnnotation, Span\n",
    "from bokeh.layouts import column\n",
    "from bokeh.embed import file_html\n",
    "from bokeh.resources import CDN\n",
    "from bokeh.palettes import inferno"
   ]
  },
  {
   "cell_type": "code",
   "execution_count": 35,
   "metadata": {},
   "outputs": [],
   "source": [
    "colors = inferno(6) # What else for this scenario ;)"
   ]
  },
  {
   "cell_type": "code",
   "execution_count": 36,
   "metadata": {},
   "outputs": [],
   "source": [
    "p = figure(tools=\"hover,save,pan,box_zoom,reset,wheel_zoom\",\n",
    "           x_axis_type=\"datetime\",\n",
    "           title=title.replace(')', ' der John Hopkins University)'))\n",
    "\n",
    "# Vertical line for Ausgangssperren\n",
    "vline = Span(location=ausgangssperren_timestamp_epoch,\n",
    "             dimension='height', line_color='gray',\n",
    "             line_dash='dashed', line_width=3, name='Beginn Ausgangssperren')\n",
    "p.add_layout(vline)\n",
    "\n",
    "# Vorhersagemodell als Linie\n",
    "p.line(future.index, future.predicted_log, line_width=4, line_color=colors[3],\n",
    "       legend='logistisches Wachstum\\n(Modell vom %s)' % today.strftime('%d.%m.%Y'))\n",
    "\n",
    "# Tatsächliche Fälle als Punkte\n",
    "p.circle(confirmed.index, confirmed.confirmed, line_color=colors[4],\n",
    "         fill_color=colors[5], size=14, legend='Bestätigte COVID-19 Fälle')\n",
    "\n",
    "# Achsen ordentlich formatieren\n",
    "p.xaxis.formatter=DatetimeTickFormatter(\n",
    "    years=\"%d.%m.%Y\",\n",
    "    months=\"%d.%m.%Y\",\n",
    "    days=\"%A %d.%m.%Y\",\n",
    ")\n",
    "p.yaxis.formatter=NumeralTickFormatter(format='0.0a')\n",
    "\n",
    "p.yaxis.axis_label = 'Anzahl'\n",
    "\n",
    "# Daten-Zeitraum\n",
    "gray_box = BoxAnnotation(left=confirmed.index[0],\n",
    "                          right=confirmed.index[-1],\n",
    "                          fill_color='gray', fill_alpha=0.1)\n",
    "p.add_layout(gray_box)\n",
    "\n",
    "# Tooltips\n",
    "p.select_one(HoverTool).tooltips = [\n",
    "    ('Datum', '@x{%d.%m.%Y}'),\n",
    "    ('Fälle', '@y{0.0a}'),\n",
    "]\n",
    "p.select_one(HoverTool).formatters = {'x':'datetime'}\n",
    "p.select_one(HoverTool).mode = 'vline'\n",
    "\n",
    "p.toolbar.autohide = True\n",
    "\n",
    "# Legende\n",
    "p.legend.location = \"top_left\"\n",
    "\n",
    "# Anmerkung\n",
    "div = Div(text=\"\"\"Quellcode: <a href=\"https://github.com/balzer82/covid-germany-predictor\">Covid Germany Predictor</a>\n",
    "            unter CC-BY2.0 Lizenz von Paul Balzer on Github.\n",
    "            Disclaimer: Ich bin kein Epidemiologe oder Virologe, das ist keine offizielle Vorausberechnung! \n",
    "            Es wurde ein exponentielles Wachstumsmodell mittels Least Square auf die gemeldeten Fälle gefittet,\n",
    "            anschließend wurden diese Parameter auf eine logistische Funktion angewendet, welche mit %i%% Infektionsrate\n",
    "            unter %imio Deutschen in die Sättigung geht.\n",
    "            <a href=\"https://cbcity.de/impressum\">Impressum</a>\"\"\" % (infektionsrate*100, gesamtanzahl/1e6))\n",
    "\n",
    "# Save\n",
    "html = file_html(column(p, div, sizing_mode=\"stretch_both\"), CDN, 'COVID-19 Prediction Germany')"
   ]
  },
  {
   "cell_type": "markdown",
   "metadata": {},
   "source": [
    "## Style the Website"
   ]
  },
  {
   "cell_type": "code",
   "execution_count": 37,
   "metadata": {},
   "outputs": [],
   "source": [
    "head = '''\n",
    "  <body>\n",
    "        <div><img src=\"https://wirvsvirushackathon.org/wp-content/uploads/2020/03/12-scaled.jpg\" style=\"height: 30px; padding: 10px;\"></div>\n",
    "'''"
   ]
  },
  {
   "cell_type": "code",
   "execution_count": 38,
   "metadata": {},
   "outputs": [],
   "source": [
    "gtc = '''\n",
    "        <!-- Global site tag (gtag.js) - Google Analytics -->\n",
    "        <script async src=\"https://www.googletagmanager.com/gtag/js?id=UA-7230698-7\"></script>\n",
    "        <script>\n",
    "          window.dataLayer = window.dataLayer || [];\n",
    "          function gtag(){dataLayer.push(arguments);}\n",
    "          gtag('js', new Date());\n",
    "\n",
    "          gtag('config', 'UA-7230698-7');\n",
    "        </script>\n",
    "    </body>\n",
    "'''"
   ]
  },
  {
   "cell_type": "code",
   "execution_count": 39,
   "metadata": {},
   "outputs": [],
   "source": [
    "websitehtml = html.replace('<body>', head)\n",
    "websitehtml = websitehtml.replace('</body>', gtc)"
   ]
  },
  {
   "cell_type": "code",
   "execution_count": 40,
   "metadata": {},
   "outputs": [
    {
     "name": "stdout",
     "output_type": "stream",
     "text": [
      "Saved the /html/index.html\n"
     ]
    }
   ],
   "source": [
    "with open('./html/index.html', 'w') as htmlfile:\n",
    "    htmlfile.write(websitehtml.strip())\n",
    "\n",
    "print('Saved the /html/index.html')"
   ]
  },
  {
   "cell_type": "markdown",
   "metadata": {},
   "source": [
    "CC-BY 2.0 Paul Balzer"
   ]
  }
 ],
 "metadata": {
  "kernelspec": {
   "display_name": "Python 3",
   "language": "python",
   "name": "python3"
  },
  "language_info": {
   "codemirror_mode": {
    "name": "ipython",
    "version": 3
   },
   "file_extension": ".py",
   "mimetype": "text/x-python",
   "name": "python",
   "nbconvert_exporter": "python",
   "pygments_lexer": "ipython3",
   "version": "3.6.7"
  }
 },
 "nbformat": 4,
 "nbformat_minor": 2
}
