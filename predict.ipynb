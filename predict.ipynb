{
 "cells": [
  {
   "cell_type": "code",
   "execution_count": 1,
   "metadata": {},
   "outputs": [],
   "source": [
    "import pandas as pd\n",
    "\n",
    "%matplotlib inline\n",
    "import matplotlib.pyplot as plt\n",
    "plt.style.use('bmh')"
   ]
  },
  {
   "cell_type": "markdown",
   "metadata": {},
   "source": [
    "# WirVsVirus Hackathon\n",
    "\n",
    "Die entscheidende Frage bei der Beurteilung aller Maßnahmen ist, ob das exponentielle Wachstum verlangsamt worden ist, d.h. die exponentielle Wachstumskurve abflacht.\n",
    "Dazu macht man am besten anhand bestehender Daten ein Modell-Fit und schaut, ob aktuelle Fallzahlen das Modell überschreiten oder man mit den Fallzahlen darunter bleibt."
   ]
  },
  {
   "cell_type": "markdown",
   "metadata": {},
   "source": [
    "## Download Data from CSSE COVID-19 Dataset\n",
    "\n",
    "We are using the Covid-19 Dataset: https://github.com/CSSEGISandData/COVID-19"
   ]
  },
  {
   "cell_type": "code",
   "execution_count": 2,
   "metadata": {},
   "outputs": [],
   "source": [
    "url = 'https://raw.githubusercontent.com'\n",
    "url += '/CSSEGISandData/COVID-19'\n",
    "url += '/master/csse_covid_19_data/csse_covid_19_time_series'\n",
    "url += '/time_series_19-covid-Confirmed.csv'"
   ]
  },
  {
   "cell_type": "code",
   "execution_count": 3,
   "metadata": {},
   "outputs": [],
   "source": [
    "confirmed = pd.read_csv(url)"
   ]
  },
  {
   "cell_type": "code",
   "execution_count": 4,
   "metadata": {},
   "outputs": [
    {
     "data": {
      "text/html": [
       "<div>\n",
       "<style scoped>\n",
       "    .dataframe tbody tr th:only-of-type {\n",
       "        vertical-align: middle;\n",
       "    }\n",
       "\n",
       "    .dataframe tbody tr th {\n",
       "        vertical-align: top;\n",
       "    }\n",
       "\n",
       "    .dataframe thead th {\n",
       "        text-align: right;\n",
       "    }\n",
       "</style>\n",
       "<table border=\"1\" class=\"dataframe\">\n",
       "  <thead>\n",
       "    <tr style=\"text-align: right;\">\n",
       "      <th></th>\n",
       "      <th>Province/State</th>\n",
       "      <th>Country/Region</th>\n",
       "      <th>Lat</th>\n",
       "      <th>Long</th>\n",
       "      <th>1/22/20</th>\n",
       "      <th>1/23/20</th>\n",
       "      <th>1/24/20</th>\n",
       "      <th>1/25/20</th>\n",
       "      <th>1/26/20</th>\n",
       "      <th>1/27/20</th>\n",
       "      <th>...</th>\n",
       "      <th>3/11/20</th>\n",
       "      <th>3/12/20</th>\n",
       "      <th>3/13/20</th>\n",
       "      <th>3/14/20</th>\n",
       "      <th>3/15/20</th>\n",
       "      <th>3/16/20</th>\n",
       "      <th>3/17/20</th>\n",
       "      <th>3/18/20</th>\n",
       "      <th>3/19/20</th>\n",
       "      <th>3/20/20</th>\n",
       "    </tr>\n",
       "  </thead>\n",
       "  <tbody>\n",
       "    <tr>\n",
       "      <th>0</th>\n",
       "      <td>NaN</td>\n",
       "      <td>Thailand</td>\n",
       "      <td>15.0000</td>\n",
       "      <td>101.0000</td>\n",
       "      <td>2</td>\n",
       "      <td>3</td>\n",
       "      <td>5</td>\n",
       "      <td>7</td>\n",
       "      <td>8</td>\n",
       "      <td>8</td>\n",
       "      <td>...</td>\n",
       "      <td>59</td>\n",
       "      <td>70</td>\n",
       "      <td>75</td>\n",
       "      <td>82</td>\n",
       "      <td>114</td>\n",
       "      <td>147</td>\n",
       "      <td>177</td>\n",
       "      <td>212</td>\n",
       "      <td>272</td>\n",
       "      <td>322</td>\n",
       "    </tr>\n",
       "    <tr>\n",
       "      <th>1</th>\n",
       "      <td>NaN</td>\n",
       "      <td>Japan</td>\n",
       "      <td>36.0000</td>\n",
       "      <td>138.0000</td>\n",
       "      <td>2</td>\n",
       "      <td>1</td>\n",
       "      <td>2</td>\n",
       "      <td>2</td>\n",
       "      <td>4</td>\n",
       "      <td>4</td>\n",
       "      <td>...</td>\n",
       "      <td>639</td>\n",
       "      <td>639</td>\n",
       "      <td>701</td>\n",
       "      <td>773</td>\n",
       "      <td>839</td>\n",
       "      <td>825</td>\n",
       "      <td>878</td>\n",
       "      <td>889</td>\n",
       "      <td>924</td>\n",
       "      <td>963</td>\n",
       "    </tr>\n",
       "    <tr>\n",
       "      <th>2</th>\n",
       "      <td>NaN</td>\n",
       "      <td>Singapore</td>\n",
       "      <td>1.2833</td>\n",
       "      <td>103.8333</td>\n",
       "      <td>0</td>\n",
       "      <td>1</td>\n",
       "      <td>3</td>\n",
       "      <td>3</td>\n",
       "      <td>4</td>\n",
       "      <td>5</td>\n",
       "      <td>...</td>\n",
       "      <td>178</td>\n",
       "      <td>178</td>\n",
       "      <td>200</td>\n",
       "      <td>212</td>\n",
       "      <td>226</td>\n",
       "      <td>243</td>\n",
       "      <td>266</td>\n",
       "      <td>313</td>\n",
       "      <td>345</td>\n",
       "      <td>385</td>\n",
       "    </tr>\n",
       "    <tr>\n",
       "      <th>3</th>\n",
       "      <td>NaN</td>\n",
       "      <td>Nepal</td>\n",
       "      <td>28.1667</td>\n",
       "      <td>84.2500</td>\n",
       "      <td>0</td>\n",
       "      <td>0</td>\n",
       "      <td>0</td>\n",
       "      <td>1</td>\n",
       "      <td>1</td>\n",
       "      <td>1</td>\n",
       "      <td>...</td>\n",
       "      <td>1</td>\n",
       "      <td>1</td>\n",
       "      <td>1</td>\n",
       "      <td>1</td>\n",
       "      <td>1</td>\n",
       "      <td>1</td>\n",
       "      <td>1</td>\n",
       "      <td>1</td>\n",
       "      <td>1</td>\n",
       "      <td>1</td>\n",
       "    </tr>\n",
       "    <tr>\n",
       "      <th>4</th>\n",
       "      <td>NaN</td>\n",
       "      <td>Malaysia</td>\n",
       "      <td>2.5000</td>\n",
       "      <td>112.5000</td>\n",
       "      <td>0</td>\n",
       "      <td>0</td>\n",
       "      <td>0</td>\n",
       "      <td>3</td>\n",
       "      <td>4</td>\n",
       "      <td>4</td>\n",
       "      <td>...</td>\n",
       "      <td>149</td>\n",
       "      <td>149</td>\n",
       "      <td>197</td>\n",
       "      <td>238</td>\n",
       "      <td>428</td>\n",
       "      <td>566</td>\n",
       "      <td>673</td>\n",
       "      <td>790</td>\n",
       "      <td>900</td>\n",
       "      <td>1030</td>\n",
       "    </tr>\n",
       "  </tbody>\n",
       "</table>\n",
       "<p>5 rows × 63 columns</p>\n",
       "</div>"
      ],
      "text/plain": [
       "  Province/State Country/Region      Lat      Long  1/22/20  1/23/20  1/24/20  \\\n",
       "0            NaN       Thailand  15.0000  101.0000        2        3        5   \n",
       "1            NaN          Japan  36.0000  138.0000        2        1        2   \n",
       "2            NaN      Singapore   1.2833  103.8333        0        1        3   \n",
       "3            NaN          Nepal  28.1667   84.2500        0        0        0   \n",
       "4            NaN       Malaysia   2.5000  112.5000        0        0        0   \n",
       "\n",
       "   1/25/20  1/26/20  1/27/20   ...     3/11/20  3/12/20  3/13/20  3/14/20  \\\n",
       "0        7        8        8   ...          59       70       75       82   \n",
       "1        2        4        4   ...         639      639      701      773   \n",
       "2        3        4        5   ...         178      178      200      212   \n",
       "3        1        1        1   ...           1        1        1        1   \n",
       "4        3        4        4   ...         149      149      197      238   \n",
       "\n",
       "   3/15/20  3/16/20  3/17/20  3/18/20  3/19/20  3/20/20  \n",
       "0      114      147      177      212      272      322  \n",
       "1      839      825      878      889      924      963  \n",
       "2      226      243      266      313      345      385  \n",
       "3        1        1        1        1        1        1  \n",
       "4      428      566      673      790      900     1030  \n",
       "\n",
       "[5 rows x 63 columns]"
      ]
     },
     "execution_count": 4,
     "metadata": {},
     "output_type": "execute_result"
    }
   ],
   "source": [
    "confirmed.head()"
   ]
  },
  {
   "cell_type": "markdown",
   "metadata": {},
   "source": [
    "### Preprocessing"
   ]
  },
  {
   "cell_type": "code",
   "execution_count": 5,
   "metadata": {},
   "outputs": [],
   "source": [
    "ger_confirmed = confirmed[confirmed['Country/Region']=='Germany'].T\n",
    "ger_confirmed = ger_confirmed[4:].astype('int')\n",
    "ger_confirmed.columns = ['confirmed']"
   ]
  },
  {
   "cell_type": "code",
   "execution_count": 6,
   "metadata": {},
   "outputs": [],
   "source": [
    "ger_confirmed.index = pd.to_datetime(ger_confirmed.index)\n",
    "ger_confirmed = ger_confirmed.asfreq('D')"
   ]
  },
  {
   "cell_type": "code",
   "execution_count": 7,
   "metadata": {},
   "outputs": [],
   "source": [
    "ger_confirmed = ger_confirmed[ger_confirmed.confirmed>100]"
   ]
  },
  {
   "cell_type": "code",
   "execution_count": 8,
   "metadata": {},
   "outputs": [],
   "source": [
    "today = ger_confirmed.index[-1]"
   ]
  },
  {
   "cell_type": "markdown",
   "metadata": {},
   "source": [
    "## Feature"
   ]
  },
  {
   "cell_type": "code",
   "execution_count": 9,
   "metadata": {},
   "outputs": [],
   "source": [
    "ger_confirmed['days'] = (ger_confirmed.index - ger_confirmed.index.min()).days"
   ]
  },
  {
   "cell_type": "code",
   "execution_count": 10,
   "metadata": {},
   "outputs": [
    {
     "data": {
      "text/html": [
       "<div>\n",
       "<style scoped>\n",
       "    .dataframe tbody tr th:only-of-type {\n",
       "        vertical-align: middle;\n",
       "    }\n",
       "\n",
       "    .dataframe tbody tr th {\n",
       "        vertical-align: top;\n",
       "    }\n",
       "\n",
       "    .dataframe thead th {\n",
       "        text-align: right;\n",
       "    }\n",
       "</style>\n",
       "<table border=\"1\" class=\"dataframe\">\n",
       "  <thead>\n",
       "    <tr style=\"text-align: right;\">\n",
       "      <th></th>\n",
       "      <th>confirmed</th>\n",
       "      <th>days</th>\n",
       "    </tr>\n",
       "  </thead>\n",
       "  <tbody>\n",
       "    <tr>\n",
       "      <th>2020-03-01</th>\n",
       "      <td>130</td>\n",
       "      <td>0</td>\n",
       "    </tr>\n",
       "    <tr>\n",
       "      <th>2020-03-02</th>\n",
       "      <td>159</td>\n",
       "      <td>1</td>\n",
       "    </tr>\n",
       "    <tr>\n",
       "      <th>2020-03-03</th>\n",
       "      <td>196</td>\n",
       "      <td>2</td>\n",
       "    </tr>\n",
       "    <tr>\n",
       "      <th>2020-03-04</th>\n",
       "      <td>262</td>\n",
       "      <td>3</td>\n",
       "    </tr>\n",
       "    <tr>\n",
       "      <th>2020-03-05</th>\n",
       "      <td>482</td>\n",
       "      <td>4</td>\n",
       "    </tr>\n",
       "  </tbody>\n",
       "</table>\n",
       "</div>"
      ],
      "text/plain": [
       "            confirmed  days\n",
       "2020-03-01        130     0\n",
       "2020-03-02        159     1\n",
       "2020-03-03        196     2\n",
       "2020-03-04        262     3\n",
       "2020-03-05        482     4"
      ]
     },
     "execution_count": 10,
     "metadata": {},
     "output_type": "execute_result"
    }
   ],
   "source": [
    "ger_confirmed.head()"
   ]
  },
  {
   "cell_type": "markdown",
   "metadata": {},
   "source": [
    "## Prediction Model"
   ]
  },
  {
   "cell_type": "code",
   "execution_count": 11,
   "metadata": {},
   "outputs": [],
   "source": [
    "from sklearn.linear_model import LinearRegression\n",
    "import numpy as np"
   ]
  },
  {
   "cell_type": "code",
   "execution_count": 12,
   "metadata": {},
   "outputs": [],
   "source": [
    "X = ger_confirmed['days'].values.reshape(-1, 1)\n",
    "y = ger_confirmed['confirmed'].values\n",
    "logy = np.log(y)"
   ]
  },
  {
   "cell_type": "markdown",
   "metadata": {},
   "source": [
    "### Train"
   ]
  },
  {
   "cell_type": "code",
   "execution_count": 13,
   "metadata": {},
   "outputs": [
    {
     "data": {
      "text/plain": [
       "LinearRegression(copy_X=True, fit_intercept=True, n_jobs=None,\n",
       "         normalize=False)"
      ]
     },
     "execution_count": 13,
     "metadata": {},
     "output_type": "execute_result"
    }
   ],
   "source": [
    "clf = LinearRegression()\n",
    "clf.fit(X, logy)"
   ]
  },
  {
   "cell_type": "code",
   "execution_count": 14,
   "metadata": {},
   "outputs": [],
   "source": [
    "logy_pred = clf.predict(X)\n",
    "ger_confirmed['predicted'] = np.exp(logy_pred).astype('int')"
   ]
  },
  {
   "cell_type": "code",
   "execution_count": 15,
   "metadata": {},
   "outputs": [
    {
     "data": {
      "text/html": [
       "<div>\n",
       "<style scoped>\n",
       "    .dataframe tbody tr th:only-of-type {\n",
       "        vertical-align: middle;\n",
       "    }\n",
       "\n",
       "    .dataframe tbody tr th {\n",
       "        vertical-align: top;\n",
       "    }\n",
       "\n",
       "    .dataframe thead th {\n",
       "        text-align: right;\n",
       "    }\n",
       "</style>\n",
       "<table border=\"1\" class=\"dataframe\">\n",
       "  <thead>\n",
       "    <tr style=\"text-align: right;\">\n",
       "      <th></th>\n",
       "      <th>confirmed</th>\n",
       "      <th>days</th>\n",
       "      <th>predicted</th>\n",
       "    </tr>\n",
       "  </thead>\n",
       "  <tbody>\n",
       "    <tr>\n",
       "      <th>2020-03-16</th>\n",
       "      <td>7272</td>\n",
       "      <td>15</td>\n",
       "      <td>7329</td>\n",
       "    </tr>\n",
       "    <tr>\n",
       "      <th>2020-03-17</th>\n",
       "      <td>9257</td>\n",
       "      <td>16</td>\n",
       "      <td>9546</td>\n",
       "    </tr>\n",
       "    <tr>\n",
       "      <th>2020-03-18</th>\n",
       "      <td>12327</td>\n",
       "      <td>17</td>\n",
       "      <td>12434</td>\n",
       "    </tr>\n",
       "    <tr>\n",
       "      <th>2020-03-19</th>\n",
       "      <td>15320</td>\n",
       "      <td>18</td>\n",
       "      <td>16194</td>\n",
       "    </tr>\n",
       "    <tr>\n",
       "      <th>2020-03-20</th>\n",
       "      <td>19848</td>\n",
       "      <td>19</td>\n",
       "      <td>21093</td>\n",
       "    </tr>\n",
       "  </tbody>\n",
       "</table>\n",
       "</div>"
      ],
      "text/plain": [
       "            confirmed  days  predicted\n",
       "2020-03-16       7272    15       7329\n",
       "2020-03-17       9257    16       9546\n",
       "2020-03-18      12327    17      12434\n",
       "2020-03-19      15320    18      16194\n",
       "2020-03-20      19848    19      21093"
      ]
     },
     "execution_count": 15,
     "metadata": {},
     "output_type": "execute_result"
    }
   ],
   "source": [
    "ger_confirmed.tail()"
   ]
  },
  {
   "cell_type": "markdown",
   "metadata": {},
   "source": [
    "## Save the model for later use"
   ]
  },
  {
   "cell_type": "code",
   "execution_count": 16,
   "metadata": {},
   "outputs": [],
   "source": [
    "import pickle\n",
    "\n",
    "with open('%s-Germany-Covid19-Prediction-Model.pkl' % today.strftime('%Y-%m-%d'), 'wb') as f:\n",
    "    pickle.dump(clf, f)"
   ]
  },
  {
   "cell_type": "markdown",
   "metadata": {},
   "source": [
    "## Future"
   ]
  },
  {
   "cell_type": "code",
   "execution_count": 17,
   "metadata": {},
   "outputs": [],
   "source": [
    "fd = 13 # days into the future"
   ]
  },
  {
   "cell_type": "code",
   "execution_count": 18,
   "metadata": {},
   "outputs": [],
   "source": [
    "# Create DataFrame in the Future\n",
    "dates = pd.date_range(ger_confirmed.index[-1], periods=fd, closed='right')\n",
    "days_in_future = ger_confirmed.days[-1] + np.arange(1, fd)\n",
    "\n",
    "future = pd.DataFrame(data=days_in_future, index=dates, columns=['days'])"
   ]
  },
  {
   "cell_type": "code",
   "execution_count": 19,
   "metadata": {},
   "outputs": [],
   "source": [
    "ger_future = ger_confirmed.append(future, sort=True)"
   ]
  },
  {
   "cell_type": "markdown",
   "metadata": {},
   "source": [
    "### Predict the Future"
   ]
  },
  {
   "cell_type": "code",
   "execution_count": 20,
   "metadata": {},
   "outputs": [],
   "source": [
    "X_future = ger_future['days'].values.reshape(-1, 1)"
   ]
  },
  {
   "cell_type": "code",
   "execution_count": 21,
   "metadata": {},
   "outputs": [],
   "source": [
    "logy_pred = clf.predict(X_future)\n",
    "ger_future['predicted'] = np.exp(logy_pred).astype('int')"
   ]
  },
  {
   "cell_type": "markdown",
   "metadata": {},
   "source": [
    "## Future Plot"
   ]
  },
  {
   "cell_type": "code",
   "execution_count": 22,
   "metadata": {},
   "outputs": [],
   "source": [
    "title = 'Bestätigte Fälle und Vorhersage für Deutschland (Basierend auf CSSE COVID-19 Dataset)'"
   ]
  },
  {
   "cell_type": "code",
   "execution_count": 23,
   "metadata": {},
   "outputs": [
    {
     "data": {
      "image/png": "[encoded data removed]",
      "text/plain": [
       "<Figure size 432x288 with 1 Axes>"
      ]
     },
     "metadata": {
      "needs_background": "light"
     },
     "output_type": "display_data"
    }
   ],
   "source": [
    "ax = ger_future['confirmed'].plot(label='Bestätigte COVID-19 Fälle', marker='o')\n",
    "ax = ger_future['predicted'].plot(label='exponentielles Wachstum\\n(Modell vom %s)' % today.strftime('%d.%m.%Y'),\n",
    "                                  alpha=0.6, ax=ax)\n",
    "\n",
    "ax.legend()\n",
    "ax.set_ylabel('Personen')\n",
    "ax.set_yscale('log')\n",
    "ax.set_title(title, fontsize=8)\n",
    "ax.annotate('unter CC-BY 2.0 Lizenz Paul Balzer', xy=(.5, 0.02), xycoords='figure fraction', ha='center', fontsize=6, color='gray')\n",
    "\n",
    "plt.tight_layout()\n",
    "plt.savefig('./%s-Germany-Covid19-Prediction.png' % today.strftime('%Y-%m-%d'), dpi=150)"
   ]
  },
  {
   "cell_type": "markdown",
   "metadata": {},
   "source": [
    "## Export as Excel"
   ]
  },
  {
   "cell_type": "code",
   "execution_count": 24,
   "metadata": {},
   "outputs": [],
   "source": [
    "ger_future.to_excel('./%s-Germany-Covid19-Prediction.xlsx' % today.strftime('%Y-%m-%d'))"
   ]
  },
  {
   "cell_type": "markdown",
   "metadata": {},
   "source": [
    "# Interactive Website\n",
    "\n",
    "We are using Bokeh to export an interactive website"
   ]
  },
  {
   "cell_type": "code",
   "execution_count": 25,
   "metadata": {},
   "outputs": [],
   "source": [
    "from bokeh.plotting import figure\n",
    "from bokeh.models.formatters import DatetimeTickFormatter\n",
    "from bokeh.models import Div, HoverTool, BoxAnnotation\n",
    "from bokeh.layouts import column\n",
    "from bokeh.io import output_file, save"
   ]
  },
  {
   "cell_type": "code",
   "execution_count": 26,
   "metadata": {},
   "outputs": [
    {
     "data": {
      "text/plain": [
       "'/Users/paul/Git/covid-germany-predictor/index.html'"
      ]
     },
     "execution_count": 26,
     "metadata": {},
     "output_type": "execute_result"
    }
   ],
   "source": [
    "p = figure(tools=\"hover,save,pan,box_zoom,reset,wheel_zoom\",\n",
    "           x_axis_type=\"datetime\", y_axis_type=\"log\",\n",
    "           title=title)\n",
    "\n",
    "# Vorhersagemodell als Linie\n",
    "p.line(ger_future.index, ger_future.predicted, line_width=5, line_color='darkred',\n",
    "       legend='exponentielles Wachstum\\n(Modell vom %s)' % today.strftime('%d.%m.%Y'))\n",
    "\n",
    "# Tatsächliche Fälle als Punkte\n",
    "p.circle(ger_confirmed.index, ger_confirmed.confirmed,\n",
    "         fill_color=\"lightblue\", size=12, legend='Bestätigte COVID-19 Fälle')\n",
    "\n",
    "# X-Achse ordentlich formatieren\n",
    "p.xaxis.formatter=DatetimeTickFormatter(\n",
    "    years=\"%d.%m.%Y\",\n",
    "    months=\"%d.%m.%Y\",\n",
    "    days=\"%A %d.%m.%Y\",\n",
    ")\n",
    "\n",
    "# Legende\n",
    "p.legend.location = \"top_left\"\n",
    "\n",
    "# Daten-Zeitraum\n",
    "gray_box = BoxAnnotation(left=ger_confirmed.index[0],\n",
    "                          right=ger_confirmed.index[-1],\n",
    "                          fill_color='gray', fill_alpha=0.1)\n",
    "p.add_layout(gray_box)\n",
    "\n",
    "# Tooltips\n",
    "p.select_one(HoverTool).tooltips = [\n",
    "    ('Datum', '@x{%d.%m.%Y}'),\n",
    "    ('Fälle', '@y{0.0a}'),\n",
    "]\n",
    "p.select_one(HoverTool).formatters = {'x':'datetime'}\n",
    "p.select_one(HoverTool).mode = 'vline'\n",
    "\n",
    "# Anmerkung\n",
    "div = Div(text=\"\"\"Quellcode: <a href=\"https://github.com/balzer82/covid-germany-predictor\">Covid Germany Predictor</a> unter CC-BY2.0 Lizenz on Github.\"\"\")\n",
    "\n",
    "# Save\n",
    "output_file(\"index.html\", title='Covid19 Prediction Germany')\n",
    "\n",
    "save(column(p, div, sizing_mode=\"stretch_both\"))"
   ]
  },
  {
   "cell_type": "markdown",
   "metadata": {},
   "source": [
    "CC-BY 2.0 Paul Balzer"
   ]
  }
 ],
 "metadata": {
  "kernelspec": {
   "display_name": "Python 3",
   "language": "python",
   "name": "python3"
  },
  "language_info": {
   "codemirror_mode": {
    "name": "ipython",
    "version": 3
   },
   "file_extension": ".py",
   "mimetype": "text/x-python",
   "name": "python",
   "nbconvert_exporter": "python",
   "pygments_lexer": "ipython3",
   "version": "3.6.7"
  }
 },
 "nbformat": 4,
 "nbformat_minor": 2
}
